{
 "cells": [
  {
   "cell_type": "markdown",
   "metadata": {},
   "source": [
    "    In this work, we compared the MetPy formulation of saturation vapor pressure with formulations from Huang (2018), Sonntag (1990), and Hyland and Wexler (1983). These calculations seem to agree well with the reference values used in Huang (2018) from the International Association for the Properties of Water and Steam (IAPWS), for values from -100C to around 60C. After 60C, some disagreement comes into play between the MetPy calculations and the other calculations. The largest difference is near 35 hPa at 100C. \n",
    "\n",
    "    There also seems to be a minor difference between Huang and the other formulations of around 2 hPa at temperatures near -30 to 0. These values do agree well with the reference values, but this is a very small variation. We believe the Huang formula would be a decent update to the current MetPy formula using Bolton (1980), however, the variance is only large in extremely warm temperatures that are not reasonable atmospheric temperatures (currently). Huang does have separate formula for e_s for ice, but it seems that it agrees somewhat well with the MetPy formula with only a small 2 hPa difference. \n",
    "    \n",
    "    Overall, the Bolton formula seems to be a reasonable fit for the MetPy calculations, but more precision might be found with the implementation of the Huang (2018) formula. As far as other MetPy calculations that use other Bolton (1980) definitions, I do not think that a change is necessary until proven that those calculations are inaccurate, and then further comparison, similar to this work would need to be conducted."
   ]
  },
  {
   "cell_type": "markdown",
   "metadata": {},
   "source": [
    "References: \n",
    "\n",
    "    Bolton, D., 1980: The Computation of Equivalent Potential Temperature. Mon. Wea. Rev., 108, 1046–1053, https://doi.org/10.1175/1520-0493(1980)108<1046:TCOEPT>2.0.CO;2.\n",
    "    \n",
    "    Huang, J., 2018:A Simple Accurate Formula for Calculating Saturation Vapor Pressure of Water and Ice. J. Appl. Meteor. Climatol.,57,1265–1272, https://doi.org/10.1175/JAMC-D-17-0334.1.\n",
    "        \n",
    "    Hyland, R.W., and A. Wexler. 1983a. Formulations for the thermodynamic properties of the saturated phases of H2O from  173.15 K to 473.15 K. ASHRAE Transactions 89(2A):500–19.\n",
    "    \n",
    "    Sonntag D. 1990: Important new values of the physical constants of 1986, vapor pressure formulations based on the ITS-90 and psychrometric formulae. Zeitschrift fuer Meteorologie 70, 340-344\n",
    "\n",
    "    \n",
    "            "
   ]
  },
  {
   "cell_type": "code",
   "execution_count": null,
   "metadata": {},
   "outputs": [],
   "source": []
  }
 ],
 "metadata": {
  "kernelspec": {
   "display_name": "Python 3",
   "language": "python",
   "name": "python3"
  },
  "language_info": {
   "codemirror_mode": {
    "name": "ipython",
    "version": 3
   },
   "file_extension": ".py",
   "mimetype": "text/x-python",
   "name": "python",
   "nbconvert_exporter": "python",
   "pygments_lexer": "ipython3",
   "version": "3.7.4"
  }
 },
 "nbformat": 4,
 "nbformat_minor": 4
}
