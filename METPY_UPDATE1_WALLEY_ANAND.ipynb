{
 "cells": [
  {
   "cell_type": "markdown",
   "metadata": {},
   "source": [
    "This work aims to improve the issues identified in Issue #142 in the MetPy Github Issues. This issue requests a more accurate way of calculating the saturation vapor pressure using a non-Bolton approach. The Bolton formulation uses a constant for the latent heating term, and in realilty this term does vary with temperature. In an attempt to calculate an accurate saturation vapor pressure, the latent heating term needs to be included. It would also prove useful to include an option in the MetPy definition that includes the option to choose a formulation of the the saturation vapor pressure for ice or for liquid based on the temperature inputed. \n",
    "\n",
    "\n",
    "Work Plan: \n",
    "- Review the equations that Huang et al., (2018) uses to formulate their version of the Saturation Vapor Pressure. \n",
    "- The formulas in Huang et., (2018) provide a simple calculation of the SVP using a temperature variant latent heating term. This paper provides two calucations one for liquid water and one for ice. This would provide a way to create a relativly simple definition for the MetPY SVP calucation as for what equation to use (ice or liquid) based on the temperature inputed in to the definition. \n",
    "- We plan do to some comparisons with other formulas of SVP including the Bolton formula used currently by MetPY. \n",
    "- Potentially make slight adjustments to the equation present in the Huang et al., (2018) if necessicary, and create a definition to caluclate the SVP using those equations for the SVP of both liquid water and ice. \n",
    "\n",
    "\n",
    "References:\n",
    "Huang, J., 2018: A Simple Accurate Formula for Calculating Saturation Vapor Pressure of Water and Ice. J. Appl. Meteor. Climatol., 57, 1265–1272, https://doi.org/10.1175/JAMC-D-17-0334.1.\n",
    "\n",
    "Koutsoyiannis, D. (2014). Entropy: From Thermodynamics to Hydrology. Entropy, 16(3), 1287–1314. MDPI AG. Retrieved from http://dx.doi.org/10.3390/e16031287 \n",
    "\n",
    "Davies-Jones, R., 2009: On Formulas for Equivalent Potential Temperature. Mon. Wea. Rev., 137, 3137–3148, https://doi.org/10.1175/2009MWR2774.1.\n",
    "\n",
    "Donald F. Othmer and George Granger Brown, 1940: Correlating Vapor Pressure and Latent Heat Data. Industrial & Engineering Chemistry., 32 (6), 841-856, DOI: 10.1021/ie50366a022\n"
   ]
  }
 ],
 "metadata": {
  "kernelspec": {
   "display_name": "Python 3",
   "language": "python",
   "name": "python3"
  },
  "language_info": {
   "codemirror_mode": {
    "name": "ipython",
    "version": 3
   },
   "file_extension": ".py",
   "mimetype": "text/x-python",
   "name": "python",
   "nbconvert_exporter": "python",
   "pygments_lexer": "ipython3",
   "version": "3.8.3"
  }
 },
 "nbformat": 4,
 "nbformat_minor": 2
}
