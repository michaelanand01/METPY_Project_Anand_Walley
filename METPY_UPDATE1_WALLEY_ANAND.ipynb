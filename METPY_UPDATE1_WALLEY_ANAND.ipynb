{
 "cells": [
  {
   "cell_type": "markdown",
   "metadata": {},
   "source": [
    "This work aims to improve the issues identified in Issue #142 in the MetPy Github Issues. This issue requests a more accurate way of calculating the saturation vapor pressure using a non-Bolton approach. The Bolton formulation uses a constant for the latent heating term, and in realilty this term does vary with temperature. In an attempt to calculate an accurate saturation vapor pressure, the latent heating term needs to be included. It would also prove useful to include an option in the MetPy definition that includes the option to choose a formulation of the the saturation vapor pressure for ice or for liquid based on the temperature inputed. \n",
    "\n",
    "\n",
    "Work Plan: \n",
    "- Review the equations that Huang et al., (2018) uses to formulate their version of the Saturation Vapor Pressure. \n",
    "- The formulas in Huang et., (2018) provide a simple calculation of the SVP using a temperature variant latent heating term. This paper provides two calucations one for liquid water and one for ice. This would provide a way to create a relativly simple definition for the MetPY SVP calucation as for what equation to use (ice or liquid) based on the temperature inputed in to the definition. \n",
    "- We plan do to some comparisons with other formulas of SVP including the Bolton formula used currently by MetPY. \n",
    "- Potentially make slight adjustments to the equation present in the Huang et al., (2018) if necessicary, and create a definition to caluclate the SVP using those equations for the SVP of both liquid water and ice. \n",
    "\n",
    "\n",
    "References:\n",
    "Huang, J., 2018: A Simple Accurate Formula for Calculating Saturation Vapor Pressure of Water and Ice. J. Appl. Meteor. Climatol., 57, 1265–1272, https://doi.org/10.1175/JAMC-D-17-0334.1.\n",
    "\n",
    "Koutsoyiannis, D. (2014). Entropy: From Thermodynamics to Hydrology. Entropy, 16(3), 1287–1314. MDPI AG. Retrieved from http://dx.doi.org/10.3390/e16031287 \n",
    "\n",
    "Davies-Jones, R., 2009: On Formulas for Equivalent Potential Temperature. Mon. Wea. Rev., 137, 3137–3148, https://doi.org/10.1175/2009MWR2774.1.\n",
    "\n",
    "Donald F. Othmer and George Granger Brown, 1940: Correlating Vapor Pressure and Latent Heat Data. Industrial & Engineering Chemistry., 32 (6), 841-856, DOI: 10.1021/ie50366a022\n"
   ]
  },
  {
   "cell_type": "markdown",
   "metadata": {},
   "source": [
    "### Comments on preamble\n",
    "\n",
    "- Bolton's $e_s$ doesn't have a latent heating term since it's an empirical fit, and is shown to be very accurate; I'm not sure what you mean by \"uses a constant latent heating\". Also, Bolton's eq. 2 is the Kirchoff law for the basic dependence of latent heat on temperature, so the study is aware of the varaiability of $L_v$. Still Bolton may be inaccurate for T<-40°C, and this would be an interesting range to compare to other methods.\n",
    "\n",
    "- If you provide an option for other $e_s$ how do you ensure other formulations in MetPy are consistent with the choice of e_s?\n",
    "\n",
    "### Comments on work plan\n",
    "\n",
    "- I wasn't aware of the Huang study, and it's a good review of everything else, too. I see it mentions the IAPWS as the standard reference, which I think is sensible. And it's a very low error formula! I'm curious how it compares to the K12/K14 formulation.\n",
    "\n",
    "- I would plan to validate that you can reproduce the data tables in Huang - i.e., no errors in your impelmentation.\n",
    "\n",
    "- A comparision of the Huang formula to Bolton is a good idea too. It would be a good idea to discuss how any changes to $e_s$ in MetPy would impact other calculations implemented in MetPy and based on Bolton's forumulations, like $\\theta_{ep}$. This is related to the point about consistency and overall error minimzation for the whole world of equations as mentioned in my second comment on the preamble.\n",
    "\n",
    "Please also keep in mind the other requirements in the assignment as you move forward."
   ]
  },
  {
   "cell_type": "code",
   "execution_count": null,
   "metadata": {},
   "outputs": [],
   "source": []
  }
 ],
 "metadata": {
  "kernelspec": {
   "display_name": "Python 3",
   "language": "python",
   "name": "python3"
  },
  "language_info": {
   "codemirror_mode": {
    "name": "ipython",
    "version": 3
   },
   "file_extension": ".py",
   "mimetype": "text/x-python",
   "name": "python",
   "nbconvert_exporter": "python",
   "pygments_lexer": "ipython3",
   "version": "3.6.7"
  }
 },
 "nbformat": 4,
 "nbformat_minor": 4
}
